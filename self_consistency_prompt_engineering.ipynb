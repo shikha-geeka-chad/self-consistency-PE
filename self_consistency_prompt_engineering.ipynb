{
  "nbformat": 4,
  "nbformat_minor": 0,
  "metadata": {
    "colab": {
      "provenance": []
    },
    "kernelspec": {
      "name": "python3",
      "display_name": "Python 3"
    },
    "language_info": {
      "name": "python"
    }
  },
  "cells": [
    {
      "cell_type": "markdown",
      "source": [
        "<h1>Self Consistency in Prompt Engineering</h1>\n"
      ],
      "metadata": {
        "id": "PRpxuRYTjpMa"
      }
    },
    {
      "cell_type": "markdown",
      "source": [
        "Keep your API ket in env file\n",
        "\n",
        "```\n",
        "\n",
        "\n",
        "```\n",
        "\n"
      ],
      "metadata": {
        "id": "vo-3-h7rjwRC"
      }
    },
    {
      "cell_type": "code",
      "source": [
        "!pip install openai\n"
      ],
      "metadata": {
        "colab": {
          "base_uri": "https://localhost:8080/"
        },
        "id": "J6Oal2GHlaIK",
        "outputId": "9284edd3-96fb-4d84-c3b7-e221e314944b"
      },
      "execution_count": 2,
      "outputs": [
        {
          "output_type": "stream",
          "name": "stdout",
          "text": [
            "Collecting openai\n",
            "  Downloading openai-1.37.1-py3-none-any.whl.metadata (22 kB)\n",
            "Requirement already satisfied: anyio<5,>=3.5.0 in /usr/local/lib/python3.10/dist-packages (from openai) (3.7.1)\n",
            "Requirement already satisfied: distro<2,>=1.7.0 in /usr/lib/python3/dist-packages (from openai) (1.7.0)\n",
            "Collecting httpx<1,>=0.23.0 (from openai)\n",
            "  Downloading httpx-0.27.0-py3-none-any.whl.metadata (7.2 kB)\n",
            "Requirement already satisfied: pydantic<3,>=1.9.0 in /usr/local/lib/python3.10/dist-packages (from openai) (2.8.2)\n",
            "Requirement already satisfied: sniffio in /usr/local/lib/python3.10/dist-packages (from openai) (1.3.1)\n",
            "Requirement already satisfied: tqdm>4 in /usr/local/lib/python3.10/dist-packages (from openai) (4.66.4)\n",
            "Requirement already satisfied: typing-extensions<5,>=4.7 in /usr/local/lib/python3.10/dist-packages (from openai) (4.12.2)\n",
            "Requirement already satisfied: idna>=2.8 in /usr/local/lib/python3.10/dist-packages (from anyio<5,>=3.5.0->openai) (3.7)\n",
            "Requirement already satisfied: exceptiongroup in /usr/local/lib/python3.10/dist-packages (from anyio<5,>=3.5.0->openai) (1.2.2)\n",
            "Requirement already satisfied: certifi in /usr/local/lib/python3.10/dist-packages (from httpx<1,>=0.23.0->openai) (2024.7.4)\n",
            "Collecting httpcore==1.* (from httpx<1,>=0.23.0->openai)\n",
            "  Downloading httpcore-1.0.5-py3-none-any.whl.metadata (20 kB)\n",
            "Collecting h11<0.15,>=0.13 (from httpcore==1.*->httpx<1,>=0.23.0->openai)\n",
            "  Downloading h11-0.14.0-py3-none-any.whl.metadata (8.2 kB)\n",
            "Requirement already satisfied: annotated-types>=0.4.0 in /usr/local/lib/python3.10/dist-packages (from pydantic<3,>=1.9.0->openai) (0.7.0)\n",
            "Requirement already satisfied: pydantic-core==2.20.1 in /usr/local/lib/python3.10/dist-packages (from pydantic<3,>=1.9.0->openai) (2.20.1)\n",
            "Downloading openai-1.37.1-py3-none-any.whl (337 kB)\n",
            "\u001b[2K   \u001b[90m━━━━━━━━━━━━━━━━━━━━━━━━━━━━━━━━━━━━━━━━\u001b[0m \u001b[32m337.0/337.0 kB\u001b[0m \u001b[31m6.8 MB/s\u001b[0m eta \u001b[36m0:00:00\u001b[0m\n",
            "\u001b[?25hDownloading httpx-0.27.0-py3-none-any.whl (75 kB)\n",
            "\u001b[2K   \u001b[90m━━━━━━━━━━━━━━━━━━━━━━━━━━━━━━━━━━━━━━━━\u001b[0m \u001b[32m75.6/75.6 kB\u001b[0m \u001b[31m6.4 MB/s\u001b[0m eta \u001b[36m0:00:00\u001b[0m\n",
            "\u001b[?25hDownloading httpcore-1.0.5-py3-none-any.whl (77 kB)\n",
            "\u001b[2K   \u001b[90m━━━━━━━━━━━━━━━━━━━━━━━━━━━━━━━━━━━━━━━━\u001b[0m \u001b[32m77.9/77.9 kB\u001b[0m \u001b[31m6.5 MB/s\u001b[0m eta \u001b[36m0:00:00\u001b[0m\n",
            "\u001b[?25hDownloading h11-0.14.0-py3-none-any.whl (58 kB)\n",
            "\u001b[2K   \u001b[90m━━━━━━━━━━━━━━━━━━━━━━━━━━━━━━━━━━━━━━━━\u001b[0m \u001b[32m58.3/58.3 kB\u001b[0m \u001b[31m4.8 MB/s\u001b[0m eta \u001b[36m0:00:00\u001b[0m\n",
            "\u001b[?25hInstalling collected packages: h11, httpcore, httpx, openai\n",
            "Successfully installed h11-0.14.0 httpcore-1.0.5 httpx-0.27.0 openai-1.37.1\n"
          ]
        }
      ]
    },
    {
      "cell_type": "code",
      "source": [
        "!pip install openai --upgrade"
      ],
      "metadata": {
        "colab": {
          "base_uri": "https://localhost:8080/"
        },
        "id": "UJhQ3GPfjsf5",
        "outputId": "fda7600e-2882-440b-b28b-be6e37bf7f7c"
      },
      "execution_count": 3,
      "outputs": [
        {
          "output_type": "stream",
          "name": "stdout",
          "text": [
            "Requirement already satisfied: openai in /usr/local/lib/python3.10/dist-packages (1.37.1)\n",
            "Requirement already satisfied: anyio<5,>=3.5.0 in /usr/local/lib/python3.10/dist-packages (from openai) (3.7.1)\n",
            "Requirement already satisfied: distro<2,>=1.7.0 in /usr/lib/python3/dist-packages (from openai) (1.7.0)\n",
            "Requirement already satisfied: httpx<1,>=0.23.0 in /usr/local/lib/python3.10/dist-packages (from openai) (0.27.0)\n",
            "Requirement already satisfied: pydantic<3,>=1.9.0 in /usr/local/lib/python3.10/dist-packages (from openai) (2.8.2)\n",
            "Requirement already satisfied: sniffio in /usr/local/lib/python3.10/dist-packages (from openai) (1.3.1)\n",
            "Requirement already satisfied: tqdm>4 in /usr/local/lib/python3.10/dist-packages (from openai) (4.66.4)\n",
            "Requirement already satisfied: typing-extensions<5,>=4.7 in /usr/local/lib/python3.10/dist-packages (from openai) (4.12.2)\n",
            "Requirement already satisfied: idna>=2.8 in /usr/local/lib/python3.10/dist-packages (from anyio<5,>=3.5.0->openai) (3.7)\n",
            "Requirement already satisfied: exceptiongroup in /usr/local/lib/python3.10/dist-packages (from anyio<5,>=3.5.0->openai) (1.2.2)\n",
            "Requirement already satisfied: certifi in /usr/local/lib/python3.10/dist-packages (from httpx<1,>=0.23.0->openai) (2024.7.4)\n",
            "Requirement already satisfied: httpcore==1.* in /usr/local/lib/python3.10/dist-packages (from httpx<1,>=0.23.0->openai) (1.0.5)\n",
            "Requirement already satisfied: h11<0.15,>=0.13 in /usr/local/lib/python3.10/dist-packages (from httpcore==1.*->httpx<1,>=0.23.0->openai) (0.14.0)\n",
            "Requirement already satisfied: annotated-types>=0.4.0 in /usr/local/lib/python3.10/dist-packages (from pydantic<3,>=1.9.0->openai) (0.7.0)\n",
            "Requirement already satisfied: pydantic-core==2.20.1 in /usr/local/lib/python3.10/dist-packages (from pydantic<3,>=1.9.0->openai) (2.20.1)\n"
          ]
        }
      ]
    },
    {
      "cell_type": "markdown",
      "source": [
        "API key and Client Setup\n"
      ],
      "metadata": {
        "id": "nofcLvc4lnj1"
      }
    },
    {
      "cell_type": "code",
      "source": [
        "import os\n",
        "from openai import OpenAI\n",
        "\n",
        "os.environ[\"OPENAI_API_KEY\"]=\"Your API Key\"\n",
        "client = OpenAI()"
      ],
      "metadata": {
        "id": "f2a8dy19lcpE"
      },
      "execution_count": 4,
      "outputs": []
    },
    {
      "cell_type": "code",
      "source": [
        "import os\n",
        "from openai import OpenAI\n",
        "\n",
        "prompt = \"\"\"\n",
        "Solve the following math problem step by step:\n",
        "\n",
        "A train travels at a speed of 60 km/h for 2 hours, then at 80 km/h for 1 hour.\n",
        "What is the average speed of the train for the entire journey?\n",
        "\n",
        "Provide your answer in km/h, rounded to two decimal places.\n",
        "\"\"\""
      ],
      "metadata": {
        "id": "yElTtxw8l33c"
      },
      "execution_count": 5,
      "outputs": []
    },
    {
      "cell_type": "code",
      "source": [
        "def generate_responses(prompt, n=5):\n",
        "    responses = []\n",
        "    for _ in range(n):\n",
        "\n",
        "        response= client.chat.completions.create(\n",
        "            messages=[\n",
        "                {\n",
        "                    \"role\": \"user\",\n",
        "                    \"content\": prompt,\n",
        "                }\n",
        "            ],\n",
        "            model=\"gpt-3.5-turbo\",\n",
        "        )\n",
        "        responses.append(response.choices[0].message.content.strip())\n",
        "    return responses\n",
        "\n",
        "# Generate 5 responses\n",
        "results = generate_responses(prompt, n=5)\n",
        "for i, result in enumerate(results):\n",
        "    print(f\"Response {i+1}:\\n{result}\\n\")"
      ],
      "metadata": {
        "colab": {
          "base_uri": "https://localhost:8080/"
        },
        "id": "KTwvNBAql4-A",
        "outputId": "d8988e3d-d975-498f-accd-a08ae56f9989"
      },
      "execution_count": 6,
      "outputs": [
        {
          "output_type": "stream",
          "name": "stdout",
          "text": [
            "Response 1:\n",
            "To find the average speed of the train for the entire journey, we need to calculate the total distance traveled and the total time taken.\n",
            "\n",
            "Distance traveled at 60 km/h for 2 hours:\n",
            "Distance = Speed x Time\n",
            "Distance = 60 km/h x 2 hrs\n",
            "Distance = 120 km\n",
            "\n",
            "Distance traveled at 80 km/h for 1 hour:\n",
            "Distance = Speed x Time\n",
            "Distance = 80 km/h x 1 hr\n",
            "Distance = 80 km\n",
            "\n",
            "Total distance traveled:\n",
            "Total distance = 120 km + 80 km\n",
            "Total distance = 200 km\n",
            "\n",
            "Total time taken:\n",
            "Total time = 2 hrs + 1 hr\n",
            "Total time = 3 hrs\n",
            "\n",
            "Average speed = Total distance / Total time\n",
            "Average speed = 200 km / 3 hrs\n",
            "Average speed = 66.67 km/h\n",
            "\n",
            "Therefore, the average speed of the train for the entire journey is 66.67 km/h.\n",
            "\n",
            "Response 2:\n",
            "To find the average speed of the train for the entire journey, we need to first calculate the total distance traveled and then divide it by the total time taken.\n",
            "\n",
            "Distance traveled at 60 km/h for 2 hours = 60 km/h * 2 h = 120 km\n",
            "Distance traveled at 80 km/h for 1 hour = 80 km/h * 1 h = 80 km\n",
            "\n",
            "Total distance traveled = 120 km + 80 km = 200 km\n",
            "Total time taken = 2 hours + 1 hour = 3 hours\n",
            "\n",
            "Average speed = Total distance / Total time\n",
            "Average speed = 200 km / 3 hours = 66.67 km/h\n",
            "\n",
            "Therefore, the average speed of the train for the entire journey is 66.67 km/h.\n",
            "\n",
            "Response 3:\n",
            "To find the average speed of the train for the entire journey, we can use the formula:\n",
            "\n",
            "Average speed = Total distance / Total time\n",
            "\n",
            "First, let's calculate the total distance the train travels. \n",
            "Distance traveled at 60 km/h for 2 hours = 60 km/h * 2 hours = 120 km\n",
            "Distance traveled at 80 km/h for 1 hour = 80 km/h * 1 hour = 80 km\n",
            "\n",
            "Total distance = 120 km + 80 km = 200 km\n",
            "\n",
            "Next, let's calculate the total time taken for the entire journey.\n",
            "Total time = 2 hours + 1 hour = 3 hours\n",
            "\n",
            "Now, we can plug in the values into the formula to find the average speed:\n",
            "Average speed = 200 km / 3 hours = 66.67 km/h\n",
            "\n",
            "Therefore, the average speed of the train for the entire journey is 66.67 km/h.\n",
            "\n",
            "Response 4:\n",
            "To find the average speed of the train for the entire journey, we first need to calculate the total distance traveled.\n",
            "\n",
            "Distance traveled in the first 2 hours at 60 km/h = 60 km/h * 2 h = 120 km\n",
            "Distance traveled in the next 1 hour at 80 km/h = 80 km/h * 1 h = 80 km\n",
            "\n",
            "Total distance traveled = 120 km + 80 km = 200 km\n",
            "\n",
            "Total time taken = 2 hours + 1 hour = 3 hours\n",
            "\n",
            "Average speed = Total distance / Total time\n",
            "Average speed = 200 km / 3 hours = 66.67 km/h\n",
            "\n",
            "Therefore, the average speed of the train for the entire journey is approximately 66.67 km/h.\n",
            "\n",
            "Response 5:\n",
            "To find the average speed of the train for the entire journey, we can use the formula:\n",
            "\n",
            "Average Speed = Total Distance / Total Time\n",
            "\n",
            "First, let's calculate the total distance traveled by the train:\n",
            "Distance traveled at 60 km/h for 2 hours = 60 km/h * 2 h = 120 km\n",
            "Distance traveled at 80 km/h for 1 hour = 80 km/h * 1 h = 80 km\n",
            "Total distance = 120 km + 80 km = 200 km\n",
            "\n",
            "Next, let's calculate the total time taken for the entire journey:\n",
            "Total time = 2 hours + 1 hour = 3 hours\n",
            "\n",
            "Now, we can substitute the values into the formula:\n",
            "Average Speed = 200 km / 3 hours\n",
            "Average Speed = 66.67 km/h\n",
            "\n",
            "Therefore, the average speed of the train for the entire journey is 66.67 km/h.\n",
            "\n"
          ]
        }
      ]
    },
    {
      "cell_type": "markdown",
      "source": [
        "## Compare and examine the responses"
      ],
      "metadata": {
        "id": "HBmRyf-smqmy"
      }
    },
    {
      "cell_type": "code",
      "source": [
        "import re\n",
        "def extract_answer(response):\n",
        "   match = re.search(r'(\\d+\\.\\d+)\\s*km/h', response)\n",
        "   if match:\n",
        "       return float(match.group(1))\n",
        "   return None\n",
        "answers = [extract_answer(response) for response in results]\n",
        "valid_answers = [answer for answer in answers if answer is not None]\n",
        "valid_answers"
      ],
      "metadata": {
        "colab": {
          "base_uri": "https://localhost:8080/"
        },
        "id": "sTNOZ3mhmE2m",
        "outputId": "a12e397f-c661-415c-c497-d13fdc96af63"
      },
      "execution_count": 7,
      "outputs": [
        {
          "output_type": "execute_result",
          "data": {
            "text/plain": [
              "[66.67, 66.67, 66.67, 66.67, 66.67]"
            ]
          },
          "metadata": {},
          "execution_count": 7
        }
      ]
    },
    {
      "cell_type": "markdown",
      "source": [
        "## Aggregate the results to produce a final Response."
      ],
      "metadata": {
        "id": "Ec-0dF4cm4LB"
      }
    },
    {
      "cell_type": "code",
      "source": [
        "import statistics\n",
        "if valid_answers:\n",
        "   final_answer = statistics.median(valid_answers)\n",
        "   print(f\"The most consistent answer is: {final_answer:.2f} km/h\")\n",
        "else:\n",
        "   print(\"Unable to determine a consistent answer.\")"
      ],
      "metadata": {
        "colab": {
          "base_uri": "https://localhost:8080/"
        },
        "id": "FilxCfQVm765",
        "outputId": "45270c44-15fe-4de5-a9a5-4a22a153d0b6"
      },
      "execution_count": 8,
      "outputs": [
        {
          "output_type": "stream",
          "name": "stdout",
          "text": [
            "The most consistent answer is: 66.67 km/h\n"
          ]
        }
      ]
    },
    {
      "cell_type": "markdown",
      "source": [
        "## More Advanced Techniques of Self-Consistency"
      ],
      "metadata": {
        "id": "BvWSji5mnFjT"
      }
    },
    {
      "cell_type": "code",
      "source": [
        "from sklearn.feature_extraction.text import TfidfVectorizer\n",
        "from sklearn.metrics.pairwise import cosine_similarity\n",
        "\n",
        "def weighted_aggregation(responses):\n",
        "    # Convert responses to TF-IDF vectors\n",
        "    vectorizer = TfidfVectorizer()\n",
        "    tfidf_matrix = vectorizer.fit_transform(responses)\n",
        "\n",
        "    # Calculate pairwise similarities\n",
        "    similarities = cosine_similarity(tfidf_matrix)\n",
        "\n",
        "    # Calculate weights based on average similarity to other responses\n",
        "    weights = similarities.mean(axis=1)\n",
        "\n",
        "    # Extract answers and apply weights\n",
        "    answers = [extract_answer(response) for response in responses]\n",
        "    weighted_answers = [a * w for a, w in zip(answers, weights) if a is not None]\n",
        "\n",
        "    # Calculate weighted average\n",
        "    if weighted_answers:\n",
        "        return sum(weighted_answers) / sum(weights)\n",
        "    return None\n",
        "\n",
        "final_answer = weighted_aggregation(results)\n",
        "if final_answer:\n",
        "    print(f\"The weighted average answer is: {final_answer:.2f} km/h\")\n",
        "else:\n",
        "    print(\"Unable to determine a consistent answer.\")\n"
      ],
      "metadata": {
        "colab": {
          "base_uri": "https://localhost:8080/"
        },
        "id": "JtjtycT8nBzY",
        "outputId": "f9722b33-2011-41df-f207-0ee3df17de35"
      },
      "execution_count": 9,
      "outputs": [
        {
          "output_type": "stream",
          "name": "stdout",
          "text": [
            "The weighted average answer is: 66.67 km/h\n"
          ]
        }
      ]
    },
    {
      "cell_type": "code",
      "source": [],
      "metadata": {
        "id": "Hrzabg9AnR8K"
      },
      "execution_count": null,
      "outputs": []
    }
  ]
}